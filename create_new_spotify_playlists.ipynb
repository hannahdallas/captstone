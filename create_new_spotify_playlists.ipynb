{
 "cells": [
  {
   "cell_type": "markdown",
   "id": "15921048",
   "metadata": {},
   "source": [
    "# Create New Spotify Playlists with Recommended Songs"
   ]
  },
  {
   "cell_type": "code",
   "execution_count": 1,
   "id": "7ed48321",
   "metadata": {},
   "outputs": [
    {
     "name": "stdout",
     "output_type": "stream",
     "text": [
      "Requirement already satisfied: spotipy in c:\\users\\hrcoh\\anaconda3.0\\lib\\site-packages (2.25.1)\n",
      "Requirement already satisfied: redis>=3.5.3 in c:\\users\\hrcoh\\anaconda3.0\\lib\\site-packages (from spotipy) (5.2.1)\n",
      "Requirement already satisfied: requests>=2.25.0 in c:\\users\\hrcoh\\anaconda3.0\\lib\\site-packages (from spotipy) (2.31.0)\n",
      "Requirement already satisfied: urllib3>=1.26.0 in c:\\users\\hrcoh\\anaconda3.0\\lib\\site-packages (from spotipy) (1.26.16)\n",
      "Requirement already satisfied: charset-normalizer<4,>=2 in c:\\users\\hrcoh\\anaconda3.0\\lib\\site-packages (from requests>=2.25.0->spotipy) (2.0.4)\n",
      "Requirement already satisfied: idna<4,>=2.5 in c:\\users\\hrcoh\\anaconda3.0\\lib\\site-packages (from requests>=2.25.0->spotipy) (3.4)\n",
      "Requirement already satisfied: certifi>=2017.4.17 in c:\\users\\hrcoh\\anaconda3.0\\lib\\site-packages (from requests>=2.25.0->spotipy) (2024.12.14)\n",
      "Note: you may need to restart the kernel to use updated packages.\n"
     ]
    },
    {
     "name": "stderr",
     "output_type": "stream",
     "text": [
      "\n",
      "[notice] A new release of pip is available: 25.0 -> 25.0.1\n",
      "[notice] To update, run: python.exe -m pip install --upgrade pip\n"
     ]
    }
   ],
   "source": [
    "pip install spotipy"
   ]
  },
  {
   "cell_type": "code",
   "execution_count": 2,
   "id": "47344ba8",
   "metadata": {},
   "outputs": [],
   "source": [
    "import spotipy\n",
    "from spotipy.oauth2 import SpotifyOAuth\n",
    "import pandas as pd\n",
    "import time"
   ]
  },
  {
   "cell_type": "code",
   "execution_count": 4,
   "id": "d74bf773",
   "metadata": {},
   "outputs": [
    {
     "name": "stdout",
     "output_type": "stream",
     "text": [
      "Go to the following URL: https://accounts.spotify.com/authorize?client_id=83144fb5efda493aad91d5e789089417&response_type=code&redirect_uri=http%3A%2F%2F127.0.0.1%3A5000%2Fcallback&scope=playlist-modify-public+playlist-modify-private\n",
      "Enter the URL you were redirected to: http://127.0.0.1:5000/callback?code=AQBbqvucGA_RDLy3C8QaM7-uyJ4ZfhIjBxexHeDAUK-CrOIaOYlFaabBF2Mm-LLxNOhElvyDerd1SXm-zHKQ6FINrTDITdq7wgR3I31Y--0jJNngWJ7ixYPXG9gLDfID6FJv1_y6YYoYHgVaeLE3Wqs72Ka1jskTtziHJlG44xbBdFwAZ3Xix0LpQN6UJI_EROs26vJVnaiUSt9AJ_BDHJ12tPrOFE82ujfNQ6UUSIApMNU\n"
     ]
    }
   ],
   "source": [
    "# Set your Spotify credentials\n",
    "SPOTIPY_CLIENT_ID = \" \"\n",
    "SPOTIPY_CLIENT_SECRET = \" \"\n",
    "SPOTIPY_REDIRECT_URI = \"http://127.0.0.1:5000/callback\"\n",
    "  # Use this for testing\n",
    "\n",
    "# Authenticate with Spotify\n",
    "scope = \"playlist-modify-public playlist-modify-private\"\n",
    "sp = spotipy.Spotify(auth_manager=SpotifyOAuth(\n",
    "    client_id=SPOTIPY_CLIENT_ID,\n",
    "    client_secret=SPOTIPY_CLIENT_SECRET,\n",
    "    redirect_uri=SPOTIPY_REDIRECT_URI,\n",
    "    scope=scope,\n",
    "    open_browser=False\n",
    "))\n",
    "\n",
    "\n",
    "# Get your Spotify user ID\n",
    "user_id = sp.current_user()[\"id\"]\n",
    "\n",
    "# Load the recommended songs dataset\n",
    "df = pd.read_csv(\"./data/recommended_songs.csv\")\n",
    "\n",
    "# Ensure the column with track IDs exists\n",
    "if \"id\" not in df.columns:\n",
    "    raise ValueError(\"The dataset must contain a column with Spotify track IDs.\")"
   ]
  },
  {
   "cell_type": "code",
   "execution_count": 5,
   "id": "37ccf35c",
   "metadata": {},
   "outputs": [
    {
     "name": "stdout",
     "output_type": "stream",
     "text": [
      "Playlist 'Cafe Contemplation' created with 5509 tracks.\n",
      "Playlist 'Sunshine & Seratonin' created with 6418 tracks.\n",
      "Playlist 'Upbeat & Moody' created with 2931 tracks.\n"
     ]
    }
   ],
   "source": [
    "def create_spotify_playlist(playlist_name, track_ids):\n",
    "    \"\"\"\n",
    "    Creates a new playlist in Spotify and adds the given track IDs.\n",
    "    \"\"\"\n",
    "    # Create playlist\n",
    "    playlist = sp.user_playlist_create(user=user_id, name=playlist_name, public=True)\n",
    "    playlist_id = playlist[\"id\"]\n",
    "    \n",
    "    # Add tracks in batches of 100 (Spotify limit)\n",
    "    for i in range(0, len(track_ids), 100):\n",
    "        sp.playlist_add_items(playlist_id, track_ids[i:i + 100])\n",
    "        time.sleep(1)  # Avoid hitting API rate limits\n",
    "    \n",
    "    print(f\"Playlist '{playlist_name}' created with {len(track_ids)} tracks.\")\n",
    "\n",
    "# Iterate over each unique playlist and add songs\n",
    "for playlist in df[\"Playlist\"].unique():\n",
    "    playlist_tracks = df[df[\"Playlist\"] == playlist][\"id\"].tolist()  # Spotify track IDs\n",
    "    if playlist_tracks:\n",
    "        create_spotify_playlist(playlist, playlist_tracks)\n"
   ]
  }
 ],
 "metadata": {
  "kernelspec": {
   "display_name": "Python 3 (ipykernel)",
   "language": "python",
   "name": "python3"
  },
  "language_info": {
   "codemirror_mode": {
    "name": "ipython",
    "version": 3
   },
   "file_extension": ".py",
   "mimetype": "text/x-python",
   "name": "python",
   "nbconvert_exporter": "python",
   "pygments_lexer": "ipython3",
   "version": "3.11.5"
  }
 },
 "nbformat": 4,
 "nbformat_minor": 5
}
