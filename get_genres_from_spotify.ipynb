{
 "cells": [
  {
   "cell_type": "code",
   "execution_count": 1,
   "id": "3e33f5f3",
   "metadata": {},
   "outputs": [
    {
     "name": "stdout",
     "output_type": "stream",
     "text": [
      "Note: you may need to restart the kernel to use updated packages.\n",
      "Requirement already satisfied: lyricsgenius in c:\\users\\hrcoh\\anaconda3.0\\lib\\site-packages (3.2.0)\n",
      "Requirement already satisfied: spotipy in c:\\users\\hrcoh\\anaconda3.0\\lib\\site-packages (2.25.1)\n",
      "Requirement already satisfied: pandas in c:\\users\\hrcoh\\anaconda3.0\\lib\\site-packages (2.2.3)\n",
      "Requirement already satisfied: requests in c:\\users\\hrcoh\\anaconda3.0\\lib\\site-packages (2.31.0)\n",
      "Requirement already satisfied: beautifulsoup4>=4.6.0 in c:\\users\\hrcoh\\anaconda3.0\\lib\\site-packages (from lyricsgenius) (4.12.2)\n",
      "Requirement already satisfied: redis>=3.5.3 in c:\\users\\hrcoh\\anaconda3.0\\lib\\site-packages (from spotipy) (5.2.1)\n",
      "Requirement already satisfied: urllib3>=1.26.0 in c:\\users\\hrcoh\\anaconda3.0\\lib\\site-packages (from spotipy) (1.26.16)\n",
      "Requirement already satisfied: numpy>=1.23.2 in c:\\users\\hrcoh\\anaconda3.0\\lib\\site-packages (from pandas) (1.23.5)\n",
      "Requirement already satisfied: python-dateutil>=2.8.2 in c:\\users\\hrcoh\\anaconda3.0\\lib\\site-packages (from pandas) (2.8.2)\n",
      "Requirement already satisfied: pytz>=2020.1 in c:\\users\\hrcoh\\anaconda3.0\\lib\\site-packages (from pandas) (2023.3.post1)\n",
      "Requirement already satisfied: tzdata>=2022.7 in c:\\users\\hrcoh\\anaconda3.0\\lib\\site-packages (from pandas) (2023.3)\n",
      "Requirement already satisfied: charset-normalizer<4,>=2 in c:\\users\\hrcoh\\anaconda3.0\\lib\\site-packages (from requests) (2.0.4)\n",
      "Requirement already satisfied: idna<4,>=2.5 in c:\\users\\hrcoh\\anaconda3.0\\lib\\site-packages (from requests) (3.4)\n",
      "Requirement already satisfied: certifi>=2017.4.17 in c:\\users\\hrcoh\\anaconda3.0\\lib\\site-packages (from requests) (2024.12.14)\n",
      "Requirement already satisfied: soupsieve>1.2 in c:\\users\\hrcoh\\anaconda3.0\\lib\\site-packages (from beautifulsoup4>=4.6.0->lyricsgenius) (2.4)\n",
      "Requirement already satisfied: six>=1.5 in c:\\users\\hrcoh\\anaconda3.0\\lib\\site-packages (from python-dateutil>=2.8.2->pandas) (1.16.0)\n"
     ]
    },
    {
     "name": "stderr",
     "output_type": "stream",
     "text": [
      "\n",
      "[notice] A new release of pip is available: 25.0 -> 25.0.1\n",
      "[notice] To update, run: python.exe -m pip install --upgrade pip\n"
     ]
    }
   ],
   "source": [
    "pip install lyricsgenius spotipy pandas requests"
   ]
  },
  {
   "cell_type": "code",
   "execution_count": 6,
   "id": "0a5a20e7",
   "metadata": {},
   "outputs": [],
   "source": [
    "# getting genre and lyrics\n",
    "import requests\n",
    "import spotipy\n",
    "from spotipy.oauth2 import SpotifyClientCredentials\n",
    "import time\n",
    "import pandas as pd"
   ]
  },
  {
   "cell_type": "code",
   "execution_count": 7,
   "id": "6e877f2b",
   "metadata": {},
   "outputs": [],
   "source": [
    "df=pd.read_csv(\"./data.csv\")"
   ]
  },
  {
   "cell_type": "code",
   "execution_count": 8,
   "id": "990192c2",
   "metadata": {},
   "outputs": [],
   "source": [
    "# Spotify API Setup\n",
    "SPOTIFY_CLIENT_ID = \"83144fb5efda493aad91d5e789089417\"\n",
    "SPOTIFY_CLIENT_SECRET = \"335082c448db4caf848c9965b4fc1b00\"\n",
    "\n",
    "# Authenticate with Spotify\n",
    "auth_manager = SpotifyClientCredentials(client_id=SPOTIFY_CLIENT_ID, client_secret=SPOTIFY_CLIENT_SECRET)\n",
    "sp = spotipy.Spotify(auth_manager=auth_manager)"
   ]
  },
  {
   "cell_type": "code",
   "execution_count": 9,
   "id": "818edb6e",
   "metadata": {},
   "outputs": [
    {
     "name": "stdout",
     "output_type": "stream",
     "text": [
      "Error fetching genre for DJ Ayres: HTTPSConnectionPool(host='api.spotify.com', port=443): Read timed out. (read timeout=5)\n",
      "Data saved to df_with_genres.csv\n"
     ]
    }
   ],
   "source": [
    "def get_spotify_genre(artist_name):\n",
    "    \"\"\"Fetches genres for a given artist from Spotify.\"\"\"\n",
    "    try:\n",
    "        results = sp.search(q=f\"artist:{artist_name}\", type=\"artist\", limit=1)\n",
    "        artist_data = results[\"artists\"][\"items\"]\n",
    "        if artist_data:\n",
    "            return \", \".join(artist_data[0][\"genres\"])  # Join genres as a comma-separated string\n",
    "    except Exception as e:\n",
    "        print(f\"Error fetching genre for {artist_name}: {e}\")\n",
    "    return \"Unknown\"\n",
    "\n",
    "# Store results\n",
    "df[\"genre\"] = df[\"artist\"].apply(get_spotify_genre)  # Get genre for each artist\n",
    "\n",
    "# Save updated dataset\n",
    "df.to_csv(\"df_with_genres.csv\", index=False)\n",
    "print(\"Data saved to df_with_genres.csv\")"
   ]
  },
  {
   "cell_type": "code",
   "execution_count": null,
   "id": "7ae742f9",
   "metadata": {},
   "outputs": [],
   "source": []
  },
  {
   "cell_type": "code",
   "execution_count": null,
   "id": "f8e1affa",
   "metadata": {},
   "outputs": [],
   "source": []
  }
 ],
 "metadata": {
  "kernelspec": {
   "display_name": "Python 3 (ipykernel)",
   "language": "python",
   "name": "python3"
  },
  "language_info": {
   "codemirror_mode": {
    "name": "ipython",
    "version": 3
   },
   "file_extension": ".py",
   "mimetype": "text/x-python",
   "name": "python",
   "nbconvert_exporter": "python",
   "pygments_lexer": "ipython3",
   "version": "3.11.5"
  }
 },
 "nbformat": 4,
 "nbformat_minor": 5
}
